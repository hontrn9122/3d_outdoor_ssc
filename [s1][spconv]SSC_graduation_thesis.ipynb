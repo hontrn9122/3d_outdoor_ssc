{
 "cells": [
  {
   "cell_type": "markdown",
   "metadata": {
    "id": "tjP5u_euSsoP"
   },
   "source": [
    "# 0. Environment Setup"
   ]
  },
  {
   "cell_type": "code",
   "execution_count": 4,
   "metadata": {},
   "outputs": [
    {
     "name": "stdout",
     "output_type": "stream",
     "text": [
      "Downloading...\n",
      "From: https://drive.google.com/uc?id=1-b3O7QS6hBQIGFTO-7qSG7Zb9kbQuxdO&confirm=t\n",
      "To: /notebooks/weights_epoch_035.pth\n",
      "100%|████████████████████████████████████████| 277M/277M [00:03<00:00, 85.8MB/s]\n"
     ]
    }
   ],
   "source": [
    "# !gdown \"1-b3O7QS6hBQIGFTO-7qSG7Zb9kbQuxdO&confirm=t\""
   ]
  },
  {
   "cell_type": "code",
   "execution_count": 3,
   "metadata": {},
   "outputs": [],
   "source": [
    "# import zipfile\n",
    "# with zipfile.ZipFile('pretrained_model.zip') as zf:\n",
    "#     zf.extractall('SSA-SC')"
   ]
  },
  {
   "cell_type": "code",
   "execution_count": 2,
   "metadata": {
    "scrolled": true,
    "tags": []
   },
   "outputs": [],
   "source": [
    "# ### Install spconv-plus\n",
    "\n",
    "# !pip install pccm==0.3.4 ccimport==0.3.7\n",
    "# import torch\n",
    "# import shutil\n",
    "# import os\n",
    "# gpu = torch.cuda.get_device_name().replace(' ', '_').lower()\n",
    "# cumm_whl = f'cumm/{gpu}/cumm_cu120-0.2.8-cp39-cp39-linux_x86_64.whl'\n",
    "# spconv_plus_whl = f'spconv-plus/{gpu}/spconv_cu120-2.1.21-cp39-cp39-linux_x86_64.whl'\n",
    "\n",
    "# os.environ['CUMM_CUDA_VERSION'] = \"12.0\"\n",
    "\n",
    "# if not os.path.exists(cumm_whl):\n",
    "#     if not os.path.exists('cumm'):\n",
    "#         !git clone --recursive https://github.com/FindDefinition/cumm.git\n",
    "#     os.environ['CUMM_DISABLE_JIT'] = \"1\"\n",
    "#     %cd cumm\n",
    "#     !git checkout v0.2.8\n",
    "#     !python setup.py bdist_wheel\n",
    "#     os.makedirs(gpu, exist_ok=True)\n",
    "#     %cd ../\n",
    "#     shutil.move(f'cumm/dist/cumm_cu120-0.2.8-cp39-cp39-linux_x86_64.whl', cumm_whl)\n",
    "# !pip install $cumm_whl\n",
    "\n",
    "# if not os.path.exists(spconv_plus_whl):\n",
    "#     if not os.path.exists('spconv-plus'):\n",
    "#         !git clone --recursive https://github.com/dvlab-research/spconv-plus.git\n",
    "#     os.environ['SPCONV_DISABLE_JIT'] = \"1\"\n",
    "#     %cd spconv-plus\n",
    "#     !python setup.py bdist_wheel\n",
    "#     os.makedirs(gpu, exist_ok=True)\n",
    "#     %cd ../\n",
    "#     shutil.move(f'spconv-plus/dist/spconv_cu120-2.1.21-cp39-cp39-linux_x86_64.whl', spconv_plus_whl)\n",
    "# !pip install $spconv_plus_whl\n",
    "\n",
    "# #### Install remaining dependencies\n",
    "# !pip uninstall torch torchvision torchaudio --yes\n",
    "# !pip install torch==2.2.0 torchvision==0.17.0 torchaudio==2.2.0 --index-url https://download.pytorch.org/whl/cu121\n",
    "# !pip install lightning \n",
    "# !pip install torch_geometric\n",
    "# !pip install pyg_lib torch_scatter torch_sparse torch_cluster torch_spline_conv -f https://data.pyg.org/whl/torch-2.2.0+cu121.html --upgrade\n",
    "# !sudo apt-get install libsparsehash-dev\n",
    "# !pip install timm\n",
    "# !pip install wandb\n",
    "\n",
    "# #### KPConv kernel\n",
    "# %cd KPConv/cpp_wrappers\n",
    "# !sh compile_wrappers.sh\n",
    "# %cd ../../\n",
    "\n",
    "# !pip install numba strictyaml\n",
    "# !pip install dropblock"
   ]
  },
  {
   "cell_type": "code",
   "execution_count": 3,
   "metadata": {
    "id": "GPFXze_KSHF5",
    "tags": []
   },
   "outputs": [],
   "source": [
    "import os\n",
    "import cv2\n",
    "import json\n",
    "import logging\n",
    "import shutil\n",
    "import copy\n",
    "import zipfile\n",
    "import torch\n",
    "import torchvision\n",
    "from torch import nn\n",
    "from torch.utils.data import Dataset\n",
    "from torch.utils.data import DataLoader\n",
    "import numpy as np\n",
    "from tqdm import tqdm\n",
    "import multiprocessing\n",
    "from multiprocessing.pool import Pool\n",
    "import functools\n",
    "import itertools\n",
    "import math\n",
    "import glob"
   ]
  },
  {
   "cell_type": "code",
   "execution_count": 4,
   "metadata": {},
   "outputs": [],
   "source": [
    "os.environ[\"SPCONV_DEBUG_SAVE_PATH\"] = \"/notebooks/spconv_log/error.log\""
   ]
  },
  {
   "cell_type": "code",
   "execution_count": 5,
   "metadata": {
    "id": "el2XOFdbSxQT"
   },
   "outputs": [],
   "source": [
    "os.environ['CUDA_LAUNCH_BLOCKING'] = '1'"
   ]
  },
  {
   "cell_type": "code",
   "execution_count": 6,
   "metadata": {
    "colab": {
     "base_uri": "https://localhost:8080/",
     "height": 36
    },
    "id": "8WwmALxdIsOE",
    "outputId": "2bb788f3-3b2d-40de-f22c-56470a2edc3c"
   },
   "outputs": [
    {
     "data": {
      "text/plain": [
       "'cuda'"
      ]
     },
     "execution_count": 6,
     "metadata": {},
     "output_type": "execute_result"
    }
   ],
   "source": [
    "# Setup device agnostic code\n",
    "device = \"cuda\" if torch.cuda.is_available() else \"cpu\"\n",
    "device"
   ]
  },
  {
   "cell_type": "code",
   "execution_count": 7,
   "metadata": {
    "id": "vaT0EOI_It8D",
    "tags": []
   },
   "outputs": [],
   "source": [
    "DATA_PATH = 'storage/SemanticKITTI/dataset'\n",
    "SAVE_PATH = 'result'\n",
    "\n",
    "if not os.path.exists(DATA_PATH):\n",
    "    os.makedirs(DATA_PATH, exist_ok=True)\n",
    "if not os.path.exists(SAVE_PATH):\n",
    "    os.makedirs(SAVE_PATH, exist_ok=True)"
   ]
  },
  {
   "cell_type": "code",
   "execution_count": 8,
   "metadata": {
    "tags": []
   },
   "outputs": [],
   "source": [
    "# with zipfile.ZipFile('train_2.zip') as zf:\n",
    "#     zf.extractall(os.path.join(DATA_PATH, 'sequences'))\n",
    "# os.remove('train_2.zip')"
   ]
  },
  {
   "cell_type": "code",
   "execution_count": 9,
   "metadata": {
    "id": "EI3dRH-HnKGo"
   },
   "outputs": [],
   "source": [
    "import spconv.pytorch as spconv\n",
    "from spconv.pytorch import SparseConvTensor\n",
    "import lightning as L\n",
    "\n",
    "# from torch_geometric.data import Batch\n",
    "\n",
    "from model_spconv.layers import *\n",
    "from model_spconv.networks import *\n",
    "from model_spconv.dataloader import *\n",
    "from model_spconv.utils import downsample_label, process_point_label"
   ]
  },
  {
   "cell_type": "code",
   "execution_count": 10,
   "metadata": {},
   "outputs": [],
   "source": [
    "stage = 1\n",
    "resume_training = True"
   ]
  },
  {
   "cell_type": "markdown",
   "metadata": {
    "id": "KpkkOuOPSx6C"
   },
   "source": [
    "# 1. Dataset preprocessing"
   ]
  },
  {
   "cell_type": "code",
   "execution_count": 11,
   "metadata": {
    "id": "9Tty7TJpKLQH"
   },
   "outputs": [],
   "source": [
    "data_config_path = 'model_spconv/cfgs/semantic-kitti.yaml'\n",
    "load_path = 'result/s2_checkpoints_final/SSC_last.ckpt'"
   ]
  },
  {
   "cell_type": "code",
   "execution_count": 12,
   "metadata": {
    "scrolled": true,
    "tags": []
   },
   "outputs": [],
   "source": [
    "# downsample_label(DATA_PATH, device=device)\n",
    "# process_point_label(DATA_PATH, device=device)"
   ]
  },
  {
   "cell_type": "code",
   "execution_count": 13,
   "metadata": {
    "colab": {
     "base_uri": "https://localhost:8080/"
    },
    "id": "zDPTsvtPS2Bk",
    "outputId": "96a3efab-05e6-4944-b6cb-93088147beeb"
   },
   "outputs": [
    {
     "name": "stdout",
     "output_type": "stream",
     "text": [
      "point_input 3834\n",
      "point_label 3834\n",
      "point_input 815\n",
      "point_label 815\n"
     ]
    }
   ],
   "source": [
    "train_dataset = SSCDataset(\n",
    "    data_root=DATA_PATH,\n",
    "    data_config_path=data_config_path,\n",
    "    split=\"train\",\n",
    "    augmentation=True,\n",
    "    stage=stage\n",
    ")\n",
    "\n",
    "valid_dataset = SSCDataset(\n",
    "    data_root=DATA_PATH,\n",
    "    data_config_path=data_config_path,\n",
    "    split=\"valid\",\n",
    "    augmentation=False,\n",
    "    stage=stage\n",
    ")"
   ]
  },
  {
   "cell_type": "code",
   "execution_count": 14,
   "metadata": {
    "id": "h-t0cUmAKmxG"
   },
   "outputs": [],
   "source": [
    "train_dataloader = DataLoader(\n",
    "    train_dataset,\n",
    "    batch_size=8,\n",
    "    shuffle=True,\n",
    "    drop_last=False,\n",
    "    pin_memory=False,\n",
    "    num_workers=8,\n",
    "    collate_fn=custom_collate_fn\n",
    ")\n",
    "\n",
    "valid_dataloader = DataLoader(\n",
    "    valid_dataset,\n",
    "    batch_size=16,\n",
    "    shuffle=False,\n",
    "    drop_last=False,\n",
    "    pin_memory=False,\n",
    "    num_workers=8,\n",
    "    collate_fn=custom_collate_fn\n",
    ")"
   ]
  },
  {
   "cell_type": "markdown",
   "metadata": {
    "id": "_fZq6gS1S26q"
   },
   "source": [
    "# 2. Training"
   ]
  },
  {
   "cell_type": "code",
   "execution_count": 15,
   "metadata": {},
   "outputs": [
    {
     "name": "stdout",
     "output_type": "stream",
     "text": [
      "[IOU EVAL] IGNORE:  tensor([], dtype=torch.int64)\n",
      "[IOU EVAL] INCLUDE:  tensor([ 0,  1,  2,  3,  4,  5,  6,  7,  8,  9, 10, 11, 12, 13, 14, 15, 16, 17,\n",
      "        18, 19])\n",
      "[IOU EVAL] IGNORE:  tensor([0])\n",
      "[IOU EVAL] INCLUDE:  tensor([ 1,  2,  3,  4,  5,  6,  7,  8,  9, 10, 11, 12, 13, 14, 15, 16, 17, 18,\n",
      "        19])\n"
     ]
    },
    {
     "name": "stderr",
     "output_type": "stream",
     "text": [
      "/usr/local/lib/python3.9/dist-packages/torch/optim/lr_scheduler.py:143: UserWarning: Detected call of `lr_scheduler.step()` before `optimizer.step()`. In PyTorch 1.1.0 and later, you should call them in the opposite order: `optimizer.step()` before `lr_scheduler.step()`.  Failure to do this will result in PyTorch skipping the first value of the learning rate schedule. See more details at https://pytorch.org/docs/stable/optim.html#how-to-adjust-learning-rate\n",
      "  warnings.warn(\"Detected call of `lr_scheduler.step()` before `optimizer.step()`. \"\n"
     ]
    }
   ],
   "source": [
    "# define model\n",
    "if resume_training:\n",
    "    model = SSCNetwork(\n",
    "        data_config_path=data_config_path\n",
    "    )\n",
    "else:\n",
    "    model = SSCNetwork.load_from_checkpoint(load_path)\n",
    "\n",
    "model.set_train_stage(stage)\n",
    "\n",
    "model.unfreeze_stage1_param()\n",
    "\n",
    "model.set_optimizers(torch.optim.Adam(\n",
    "    model.parameters(),\n",
    "    lr=1e-4,\n",
    "    betas=(0.9, 0.999),\n",
    "    eps=1e-08,\n",
    "    weight_decay=1e-3,\n",
    "))\n",
    "\n",
    "# model.set_schedulers({\n",
    "#     \"scheduler\": torch.optim.lr_scheduler.ExponentialLR(\n",
    "#         model.optim,\n",
    "#         gamma = 0.98,\n",
    "#     ),\n",
    "#     \"interval\": \"step\",\n",
    "#     \"frequency\": 60,\n",
    "# })\n",
    "\n",
    "scheduler = torch.optim.lr_scheduler.CosineAnnealingLR(\n",
    "    model.optim,\n",
    "    150,\n",
    ")\n",
    "for i in range(64):\n",
    "    scheduler.step()\n",
    "\n",
    "model.set_schedulers({\n",
    "    \"scheduler\": scheduler,\n",
    "    \"interval\": \"epoch\",\n",
    "    \"frequency\": 1,\n",
    "})"
   ]
  },
  {
   "cell_type": "code",
   "execution_count": 16,
   "metadata": {
    "id": "hZwAxjeES8pu"
   },
   "outputs": [],
   "source": [
    "torch.autograd.set_detect_anomaly(True)\n",
    "torch.set_float32_matmul_precision('high')"
   ]
  },
  {
   "cell_type": "code",
   "execution_count": 17,
   "metadata": {},
   "outputs": [],
   "source": [
    "#define callback for saving model checkpoint\n",
    "from lightning.pytorch.callbacks import ModelCheckpoint\n",
    "\n",
    "checkpoint_path = os.path.join(SAVE_PATH, 's1_checkpoints_cont')\n",
    "if not os.path.exists(checkpoint_path):\n",
    "    os.makedirs(checkpoint_path, exist_ok=True)\n",
    "\n",
    "sem_optim_targets = [\n",
    "    # 'val_total_loss',\n",
    "    'iou_mean',\n",
    "    # 'train_total_loss',\n",
    "]\n",
    "    \n",
    "optim_targets = [\n",
    "    # 'val_total_loss',\n",
    "    'iou_completion',\n",
    "    'iou_mean',\n",
    "    # 'train_total_loss',\n",
    "]\n",
    "\n",
    "checkpoint_callback = [\n",
    "    ModelCheckpoint(\n",
    "        monitor=None,\n",
    "        dirpath=checkpoint_path,\n",
    "        filename=f'SSC_sem_last',\n",
    "        every_n_epochs=1,\n",
    "        save_on_train_epoch_end=True,\n",
    "    )\n",
    "]\n",
    "\n",
    "for target in sem_optim_targets:\n",
    "    checkpoint_callback.append(ModelCheckpoint(\n",
    "        monitor=target,\n",
    "        dirpath=checkpoint_path,\n",
    "        filename=f'SSC_sem-{{epoch:02d}}-{{{target}:.2f}}',\n",
    "        save_top_k=3,\n",
    "        save_last=False,\n",
    "        mode='min' if 'loss' in target else 'max',\n",
    "        every_n_epochs=4,\n",
    "        save_on_train_epoch_end=False,\n",
    "        # every_n_train_steps=250,\n",
    "    ))"
   ]
  },
  {
   "cell_type": "code",
   "execution_count": 18,
   "metadata": {},
   "outputs": [],
   "source": [
    "# define callback to reset experts score\n",
    "# class ResetImportanceScore(L.Callback):\n",
    "#     def on_train_epoch_end(self, trainer, pl_module):\n",
    "#         pl_module.expert_scores.reset_score()\n",
    "        \n",
    "class EvalLogCallback(L.Callback):\n",
    "    def on_validation_epoch_end(self, trainer, pl_module):\n",
    "        pl_module.eval_metrics_log()\n",
    "        \n",
    "# reset_score_callback = ResetImportanceScore()\n",
    "eval_log_callback = EvalLogCallback()"
   ]
  },
  {
   "cell_type": "code",
   "execution_count": 19,
   "metadata": {},
   "outputs": [],
   "source": [
    "# import wandb\n",
    "# wandb.util.generate_id()"
   ]
  },
  {
   "cell_type": "code",
   "execution_count": 20,
   "metadata": {},
   "outputs": [],
   "source": [
    "#define logger\n",
    "from lightning.pytorch.loggers import WandbLogger\n",
    "\n",
    "\n",
    "log_path = os.path.join(SAVE_PATH, 'logs')\n",
    "if not os.path.exists(log_path):\n",
    "    os.makedirs(log_path, exist_ok=True)\n",
    "\n",
    "#23xhljyo\n",
    "wandb_logger = WandbLogger(\n",
    "    project=\"SemanticSceneCompletion\",\n",
    "    log_model=True,\n",
    "    save_dir=log_path,\n",
    "    name='SSCv5_final_stage1_cont',\n",
    "    entity='ssc_project',\n",
    "    id=\"2m4r8i60\",\n",
    "    resume=True,\n",
    ")"
   ]
  },
  {
   "cell_type": "code",
   "execution_count": 21,
   "metadata": {
    "colab": {
     "base_uri": "https://localhost:8080/",
     "height": 942,
     "referenced_widgets": [
      "1e79519d48784b09bdde41c781433b99",
      "4a7bdc224aeb470990fb9647a38191ed",
      "8d7ce33977e04e1b9dc7a21a4531fec2",
      "32e492f6743945918fdaaa9bfa686588",
      "391cfcd761e04e4497d087fc1093967a",
      "f9059c6576324ead99ac9f0ac3c98b8b",
      "bf75c0b5fad74992a9e5a421cedd83ed",
      "95ea4f5e26df4c2c91b88aa6eca25386",
      "d6f438d6b0b643128bf25dc469601065",
      "bb8f04b51ad24dedbeed0e5d70d68463",
      "ec726c6821584e94a4eb265d6882822b",
      "e64b9c5b597e41a0b26168aa7aa20250",
      "9375f447aed5459180fed100a043dc29",
      "2ecd22a1b95042be9b7fea322174fdd6",
      "834106ca9db34ecfaa47df2b97788f77",
      "3a705323012e44219c8877cf8e7b3f79",
      "74cfbe52aa0f4d49adccf8b724d79fe6",
      "7601abe2da53406b8953eca766d0601b",
      "3466de8620744a13bd6f25c97704ab04",
      "40a81d07b2cf4a4a813214d058ccb587",
      "1e8a9bb170ab44548bbc9ad69797cb77",
      "7d2b641243e6448c8e7446e9f59f471a"
     ]
    },
    "id": "i4CAtQ5ZS6Kv",
    "outputId": "ddc39ac4-2fc3-4066-879a-2e7b619eff9d",
    "tags": []
   },
   "outputs": [
    {
     "name": "stderr",
     "output_type": "stream",
     "text": [
      "GPU available: True (cuda), used: True\n",
      "TPU available: False, using: 0 TPU cores\n",
      "IPU available: False, using: 0 IPUs\n",
      "HPU available: False, using: 0 HPUs\n",
      "\u001b[34m\u001b[1mwandb\u001b[0m: Logging into wandb.ai. (Learn how to deploy a W&B server locally: https://wandb.me/wandb-server)\n",
      "\u001b[34m\u001b[1mwandb\u001b[0m: You can find your API key in your browser here: https://wandb.ai/authorize\n",
      "\u001b[34m\u001b[1mwandb\u001b[0m: Paste an API key from your profile and hit enter, or press ctrl+c to quit:"
     ]
    },
    {
     "name": "stdin",
     "output_type": "stream",
     "text": [
      "  ········\n"
     ]
    },
    {
     "name": "stderr",
     "output_type": "stream",
     "text": [
      "\u001b[34m\u001b[1mwandb\u001b[0m: Appending key for api.wandb.ai to your netrc file: /root/.netrc\n"
     ]
    },
    {
     "data": {
      "text/html": [
       "wandb version 0.17.0 is available!  To upgrade, please run:\n",
       " $ pip install wandb --upgrade"
      ],
      "text/plain": [
       "<IPython.core.display.HTML object>"
      ]
     },
     "metadata": {},
     "output_type": "display_data"
    },
    {
     "data": {
      "text/html": [
       "Tracking run with wandb version 0.13.4"
      ],
      "text/plain": [
       "<IPython.core.display.HTML object>"
      ]
     },
     "metadata": {},
     "output_type": "display_data"
    },
    {
     "data": {
      "text/html": [
       "Run data is saved locally in <code>result/logs/wandb/run-20240521_092820-2m4r8i60</code>"
      ],
      "text/plain": [
       "<IPython.core.display.HTML object>"
      ]
     },
     "metadata": {},
     "output_type": "display_data"
    },
    {
     "data": {
      "text/html": [
       "Resuming run <strong><a href=\"https://wandb.ai/ssc_project/SemanticSceneCompletion/runs/2m4r8i60\" target=\"_blank\">SSCv5_final_stage1_cont</a></strong> to <a href=\"https://wandb.ai/ssc_project/SemanticSceneCompletion\" target=\"_blank\">Weights & Biases</a> (<a href=\"https://wandb.me/run\" target=\"_blank\">docs</a>)<br/>"
      ],
      "text/plain": [
       "<IPython.core.display.HTML object>"
      ]
     },
     "metadata": {},
     "output_type": "display_data"
    },
    {
     "name": "stderr",
     "output_type": "stream",
     "text": [
      "/usr/local/lib/python3.9/dist-packages/lightning/pytorch/callbacks/model_checkpoint.py:653: Checkpoint directory /notebooks/result/s1_checkpoints_cont exists and is not empty.\n",
      "Restoring states from the checkpoint path at ./result/s1_checkpoints_cont/SSC_sem_last.ckpt\n",
      "LOCAL_RANK: 0 - CUDA_VISIBLE_DEVICES: [0]\n",
      "\n",
      "  | Name            | Type            | Params\n",
      "----------------------------------------------------\n",
      "0 | cfeat_extractor | cylinder_fea    | 116 K \n",
      "1 | ss_net          | Asymm_3d_spconv | 55.8 M\n",
      "2 | pc_refinement   | PCRefinement    | 574 K \n",
      "3 | sc_net          | BEV_UNet        | 63.0 M\n",
      "----------------------------------------------------\n",
      "119 M     Trainable params\n",
      "0         Non-trainable params\n",
      "119 M     Total params\n",
      "477.774   Total estimated model params size (MB)\n",
      "Restored all states from the checkpoint at ./result/s1_checkpoints_cont/SSC_sem_last.ckpt\n"
     ]
    },
    {
     "data": {
      "application/vnd.jupyter.widget-view+json": {
       "model_id": "",
       "version_major": 2,
       "version_minor": 0
      },
      "text/plain": [
       "Sanity Checking: |          | 0/? [00:00<?, ?it/s]"
      ]
     },
     "metadata": {},
     "output_type": "display_data"
    },
    {
     "data": {
      "application/vnd.jupyter.widget-view+json": {
       "model_id": "f2237903a78f4ec7be7f32a891323c2d",
       "version_major": 2,
       "version_minor": 0
      },
      "text/plain": [
       "Training: |          | 0/? [00:00<?, ?it/s]"
      ]
     },
     "metadata": {},
     "output_type": "display_data"
    },
    {
     "data": {
      "application/vnd.jupyter.widget-view+json": {
       "model_id": "",
       "version_major": 2,
       "version_minor": 0
      },
      "text/plain": [
       "Validation: |          | 0/? [00:00<?, ?it/s]"
      ]
     },
     "metadata": {},
     "output_type": "display_data"
    },
    {
     "data": {
      "application/vnd.jupyter.widget-view+json": {
       "model_id": "",
       "version_major": 2,
       "version_minor": 0
      },
      "text/plain": [
       "Validation: |          | 0/? [00:00<?, ?it/s]"
      ]
     },
     "metadata": {},
     "output_type": "display_data"
    },
    {
     "data": {
      "application/vnd.jupyter.widget-view+json": {
       "model_id": "",
       "version_major": 2,
       "version_minor": 0
      },
      "text/plain": [
       "Validation: |          | 0/? [00:00<?, ?it/s]"
      ]
     },
     "metadata": {},
     "output_type": "display_data"
    },
    {
     "data": {
      "application/vnd.jupyter.widget-view+json": {
       "model_id": "",
       "version_major": 2,
       "version_minor": 0
      },
      "text/plain": [
       "Validation: |          | 0/? [00:00<?, ?it/s]"
      ]
     },
     "metadata": {},
     "output_type": "display_data"
    },
    {
     "data": {
      "application/vnd.jupyter.widget-view+json": {
       "model_id": "",
       "version_major": 2,
       "version_minor": 0
      },
      "text/plain": [
       "Validation: |          | 0/? [00:00<?, ?it/s]"
      ]
     },
     "metadata": {},
     "output_type": "display_data"
    },
    {
     "data": {
      "application/vnd.jupyter.widget-view+json": {
       "model_id": "",
       "version_major": 2,
       "version_minor": 0
      },
      "text/plain": [
       "Validation: |          | 0/? [00:00<?, ?it/s]"
      ]
     },
     "metadata": {},
     "output_type": "display_data"
    },
    {
     "data": {
      "application/vnd.jupyter.widget-view+json": {
       "model_id": "",
       "version_major": 2,
       "version_minor": 0
      },
      "text/plain": [
       "Validation: |          | 0/? [00:00<?, ?it/s]"
      ]
     },
     "metadata": {},
     "output_type": "display_data"
    },
    {
     "data": {
      "application/vnd.jupyter.widget-view+json": {
       "model_id": "",
       "version_major": 2,
       "version_minor": 0
      },
      "text/plain": [
       "Validation: |          | 0/? [00:00<?, ?it/s]"
      ]
     },
     "metadata": {},
     "output_type": "display_data"
    },
    {
     "data": {
      "application/vnd.jupyter.widget-view+json": {
       "model_id": "",
       "version_major": 2,
       "version_minor": 0
      },
      "text/plain": [
       "Validation: |          | 0/? [00:00<?, ?it/s]"
      ]
     },
     "metadata": {},
     "output_type": "display_data"
    },
    {
     "data": {
      "application/vnd.jupyter.widget-view+json": {
       "model_id": "",
       "version_major": 2,
       "version_minor": 0
      },
      "text/plain": [
       "Validation: |          | 0/? [00:00<?, ?it/s]"
      ]
     },
     "metadata": {},
     "output_type": "display_data"
    },
    {
     "data": {
      "application/vnd.jupyter.widget-view+json": {
       "model_id": "",
       "version_major": 2,
       "version_minor": 0
      },
      "text/plain": [
       "Validation: |          | 0/? [00:00<?, ?it/s]"
      ]
     },
     "metadata": {},
     "output_type": "display_data"
    },
    {
     "data": {
      "application/vnd.jupyter.widget-view+json": {
       "model_id": "",
       "version_major": 2,
       "version_minor": 0
      },
      "text/plain": [
       "Validation: |          | 0/? [00:00<?, ?it/s]"
      ]
     },
     "metadata": {},
     "output_type": "display_data"
    },
    {
     "name": "stderr",
     "output_type": "stream",
     "text": [
      "`Trainer.fit` stopped: `max_epochs=60` reached.\n"
     ]
    }
   ],
   "source": [
    "#define trainer and train model\n",
    "trainer = L.Trainer(\n",
    "    max_epochs=60,\n",
    "    callbacks=checkpoint_callback +  [eval_log_callback],\n",
    "    logger=wandb_logger,\n",
    "    log_every_n_steps=50,\n",
    "    check_val_every_n_epoch=2,\n",
    ")\n",
    "last_checkpoint = './result/s1_checkpoints_cont/SSC_sem_last.ckpt'\n",
    "if not os.path.exists(last_checkpoint):\n",
    "    last_checkpoint = None\n",
    "# last_checkpoint=None\n",
    "trainer.fit(model, train_dataloader, valid_dataloader,ckpt_path=last_checkpoint)"
   ]
  },
  {
   "cell_type": "code",
   "execution_count": 22,
   "metadata": {},
   "outputs": [
    {
     "name": "stdout",
     "output_type": "stream",
     "text": [
      "ok\n"
     ]
    }
   ],
   "source": [
    "print('ok')"
   ]
  },
  {
   "cell_type": "code",
   "execution_count": null,
   "metadata": {},
   "outputs": [],
   "source": []
  }
 ],
 "metadata": {
  "colab": {
   "provenance": []
  },
  "kernelspec": {
   "display_name": "Python 3 (ipykernel)",
   "language": "python",
   "name": "python3"
  },
  "language_info": {
   "codemirror_mode": {
    "name": "ipython",
    "version": 3
   },
   "file_extension": ".py",
   "mimetype": "text/x-python",
   "name": "python",
   "nbconvert_exporter": "python",
   "pygments_lexer": "ipython3",
   "version": "3.9.16"
  },
  "widgets": {
   "application/vnd.jupyter.widget-state+json": {
    "1e79519d48784b09bdde41c781433b99": {
     "model_module": "@jupyter-widgets/controls",
     "model_module_version": "1.5.0",
     "model_name": "HBoxModel",
     "state": {
      "_dom_classes": [],
      "_model_module": "@jupyter-widgets/controls",
      "_model_module_version": "1.5.0",
      "_model_name": "HBoxModel",
      "_view_count": null,
      "_view_module": "@jupyter-widgets/controls",
      "_view_module_version": "1.5.0",
      "_view_name": "HBoxView",
      "box_style": "",
      "children": [
       "IPY_MODEL_4a7bdc224aeb470990fb9647a38191ed",
       "IPY_MODEL_8d7ce33977e04e1b9dc7a21a4531fec2",
       "IPY_MODEL_32e492f6743945918fdaaa9bfa686588"
      ],
      "layout": "IPY_MODEL_391cfcd761e04e4497d087fc1093967a"
     }
    },
    "1e8a9bb170ab44548bbc9ad69797cb77": {
     "model_module": "@jupyter-widgets/base",
     "model_module_version": "1.2.0",
     "model_name": "LayoutModel",
     "state": {
      "_model_module": "@jupyter-widgets/base",
      "_model_module_version": "1.2.0",
      "_model_name": "LayoutModel",
      "_view_count": null,
      "_view_module": "@jupyter-widgets/base",
      "_view_module_version": "1.2.0",
      "_view_name": "LayoutView",
      "align_content": null,
      "align_items": null,
      "align_self": null,
      "border": null,
      "bottom": null,
      "display": null,
      "flex": null,
      "flex_flow": null,
      "grid_area": null,
      "grid_auto_columns": null,
      "grid_auto_flow": null,
      "grid_auto_rows": null,
      "grid_column": null,
      "grid_gap": null,
      "grid_row": null,
      "grid_template_areas": null,
      "grid_template_columns": null,
      "grid_template_rows": null,
      "height": null,
      "justify_content": null,
      "justify_items": null,
      "left": null,
      "margin": null,
      "max_height": null,
      "max_width": null,
      "min_height": null,
      "min_width": null,
      "object_fit": null,
      "object_position": null,
      "order": null,
      "overflow": null,
      "overflow_x": null,
      "overflow_y": null,
      "padding": null,
      "right": null,
      "top": null,
      "visibility": null,
      "width": null
     }
    },
    "2ecd22a1b95042be9b7fea322174fdd6": {
     "model_module": "@jupyter-widgets/controls",
     "model_module_version": "1.5.0",
     "model_name": "FloatProgressModel",
     "state": {
      "_dom_classes": [],
      "_model_module": "@jupyter-widgets/controls",
      "_model_module_version": "1.5.0",
      "_model_name": "FloatProgressModel",
      "_view_count": null,
      "_view_module": "@jupyter-widgets/controls",
      "_view_module_version": "1.5.0",
      "_view_name": "ProgressView",
      "bar_style": "",
      "description": "",
      "description_tooltip": null,
      "layout": "IPY_MODEL_3466de8620744a13bd6f25c97704ab04",
      "max": 1917,
      "min": 0,
      "orientation": "horizontal",
      "style": "IPY_MODEL_40a81d07b2cf4a4a813214d058ccb587",
      "value": 0
     }
    },
    "32e492f6743945918fdaaa9bfa686588": {
     "model_module": "@jupyter-widgets/controls",
     "model_module_version": "1.5.0",
     "model_name": "HTMLModel",
     "state": {
      "_dom_classes": [],
      "_model_module": "@jupyter-widgets/controls",
      "_model_module_version": "1.5.0",
      "_model_name": "HTMLModel",
      "_view_count": null,
      "_view_module": "@jupyter-widgets/controls",
      "_view_module_version": "1.5.0",
      "_view_name": "HTMLView",
      "description": "",
      "description_tooltip": null,
      "layout": "IPY_MODEL_bb8f04b51ad24dedbeed0e5d70d68463",
      "placeholder": "​",
      "style": "IPY_MODEL_ec726c6821584e94a4eb265d6882822b",
      "value": " 2/2 [00:02&lt;00:00,  0.72it/s]"
     }
    },
    "3466de8620744a13bd6f25c97704ab04": {
     "model_module": "@jupyter-widgets/base",
     "model_module_version": "1.2.0",
     "model_name": "LayoutModel",
     "state": {
      "_model_module": "@jupyter-widgets/base",
      "_model_module_version": "1.2.0",
      "_model_name": "LayoutModel",
      "_view_count": null,
      "_view_module": "@jupyter-widgets/base",
      "_view_module_version": "1.2.0",
      "_view_name": "LayoutView",
      "align_content": null,
      "align_items": null,
      "align_self": null,
      "border": null,
      "bottom": null,
      "display": null,
      "flex": "2",
      "flex_flow": null,
      "grid_area": null,
      "grid_auto_columns": null,
      "grid_auto_flow": null,
      "grid_auto_rows": null,
      "grid_column": null,
      "grid_gap": null,
      "grid_row": null,
      "grid_template_areas": null,
      "grid_template_columns": null,
      "grid_template_rows": null,
      "height": null,
      "justify_content": null,
      "justify_items": null,
      "left": null,
      "margin": null,
      "max_height": null,
      "max_width": null,
      "min_height": null,
      "min_width": null,
      "object_fit": null,
      "object_position": null,
      "order": null,
      "overflow": null,
      "overflow_x": null,
      "overflow_y": null,
      "padding": null,
      "right": null,
      "top": null,
      "visibility": null,
      "width": null
     }
    },
    "391cfcd761e04e4497d087fc1093967a": {
     "model_module": "@jupyter-widgets/base",
     "model_module_version": "1.2.0",
     "model_name": "LayoutModel",
     "state": {
      "_model_module": "@jupyter-widgets/base",
      "_model_module_version": "1.2.0",
      "_model_name": "LayoutModel",
      "_view_count": null,
      "_view_module": "@jupyter-widgets/base",
      "_view_module_version": "1.2.0",
      "_view_name": "LayoutView",
      "align_content": null,
      "align_items": null,
      "align_self": null,
      "border": null,
      "bottom": null,
      "display": "inline-flex",
      "flex": null,
      "flex_flow": "row wrap",
      "grid_area": null,
      "grid_auto_columns": null,
      "grid_auto_flow": null,
      "grid_auto_rows": null,
      "grid_column": null,
      "grid_gap": null,
      "grid_row": null,
      "grid_template_areas": null,
      "grid_template_columns": null,
      "grid_template_rows": null,
      "height": null,
      "justify_content": null,
      "justify_items": null,
      "left": null,
      "margin": null,
      "max_height": null,
      "max_width": null,
      "min_height": null,
      "min_width": null,
      "object_fit": null,
      "object_position": null,
      "order": null,
      "overflow": null,
      "overflow_x": null,
      "overflow_y": null,
      "padding": null,
      "right": null,
      "top": null,
      "visibility": "hidden",
      "width": "100%"
     }
    },
    "3a705323012e44219c8877cf8e7b3f79": {
     "model_module": "@jupyter-widgets/base",
     "model_module_version": "1.2.0",
     "model_name": "LayoutModel",
     "state": {
      "_model_module": "@jupyter-widgets/base",
      "_model_module_version": "1.2.0",
      "_model_name": "LayoutModel",
      "_view_count": null,
      "_view_module": "@jupyter-widgets/base",
      "_view_module_version": "1.2.0",
      "_view_name": "LayoutView",
      "align_content": null,
      "align_items": null,
      "align_self": null,
      "border": null,
      "bottom": null,
      "display": "inline-flex",
      "flex": null,
      "flex_flow": "row wrap",
      "grid_area": null,
      "grid_auto_columns": null,
      "grid_auto_flow": null,
      "grid_auto_rows": null,
      "grid_column": null,
      "grid_gap": null,
      "grid_row": null,
      "grid_template_areas": null,
      "grid_template_columns": null,
      "grid_template_rows": null,
      "height": null,
      "justify_content": null,
      "justify_items": null,
      "left": null,
      "margin": null,
      "max_height": null,
      "max_width": null,
      "min_height": null,
      "min_width": null,
      "object_fit": null,
      "object_position": null,
      "order": null,
      "overflow": null,
      "overflow_x": null,
      "overflow_y": null,
      "padding": null,
      "right": null,
      "top": null,
      "visibility": null,
      "width": "100%"
     }
    },
    "40a81d07b2cf4a4a813214d058ccb587": {
     "model_module": "@jupyter-widgets/controls",
     "model_module_version": "1.5.0",
     "model_name": "ProgressStyleModel",
     "state": {
      "_model_module": "@jupyter-widgets/controls",
      "_model_module_version": "1.5.0",
      "_model_name": "ProgressStyleModel",
      "_view_count": null,
      "_view_module": "@jupyter-widgets/base",
      "_view_module_version": "1.2.0",
      "_view_name": "StyleView",
      "bar_color": null,
      "description_width": ""
     }
    },
    "4a7bdc224aeb470990fb9647a38191ed": {
     "model_module": "@jupyter-widgets/controls",
     "model_module_version": "1.5.0",
     "model_name": "HTMLModel",
     "state": {
      "_dom_classes": [],
      "_model_module": "@jupyter-widgets/controls",
      "_model_module_version": "1.5.0",
      "_model_name": "HTMLModel",
      "_view_count": null,
      "_view_module": "@jupyter-widgets/controls",
      "_view_module_version": "1.5.0",
      "_view_name": "HTMLView",
      "description": "",
      "description_tooltip": null,
      "layout": "IPY_MODEL_f9059c6576324ead99ac9f0ac3c98b8b",
      "placeholder": "​",
      "style": "IPY_MODEL_bf75c0b5fad74992a9e5a421cedd83ed",
      "value": "Sanity Checking DataLoader 0: 100%"
     }
    },
    "74cfbe52aa0f4d49adccf8b724d79fe6": {
     "model_module": "@jupyter-widgets/base",
     "model_module_version": "1.2.0",
     "model_name": "LayoutModel",
     "state": {
      "_model_module": "@jupyter-widgets/base",
      "_model_module_version": "1.2.0",
      "_model_name": "LayoutModel",
      "_view_count": null,
      "_view_module": "@jupyter-widgets/base",
      "_view_module_version": "1.2.0",
      "_view_name": "LayoutView",
      "align_content": null,
      "align_items": null,
      "align_self": null,
      "border": null,
      "bottom": null,
      "display": null,
      "flex": null,
      "flex_flow": null,
      "grid_area": null,
      "grid_auto_columns": null,
      "grid_auto_flow": null,
      "grid_auto_rows": null,
      "grid_column": null,
      "grid_gap": null,
      "grid_row": null,
      "grid_template_areas": null,
      "grid_template_columns": null,
      "grid_template_rows": null,
      "height": null,
      "justify_content": null,
      "justify_items": null,
      "left": null,
      "margin": null,
      "max_height": null,
      "max_width": null,
      "min_height": null,
      "min_width": null,
      "object_fit": null,
      "object_position": null,
      "order": null,
      "overflow": null,
      "overflow_x": null,
      "overflow_y": null,
      "padding": null,
      "right": null,
      "top": null,
      "visibility": null,
      "width": null
     }
    },
    "7601abe2da53406b8953eca766d0601b": {
     "model_module": "@jupyter-widgets/controls",
     "model_module_version": "1.5.0",
     "model_name": "DescriptionStyleModel",
     "state": {
      "_model_module": "@jupyter-widgets/controls",
      "_model_module_version": "1.5.0",
      "_model_name": "DescriptionStyleModel",
      "_view_count": null,
      "_view_module": "@jupyter-widgets/base",
      "_view_module_version": "1.2.0",
      "_view_name": "StyleView",
      "description_width": ""
     }
    },
    "7d2b641243e6448c8e7446e9f59f471a": {
     "model_module": "@jupyter-widgets/controls",
     "model_module_version": "1.5.0",
     "model_name": "DescriptionStyleModel",
     "state": {
      "_model_module": "@jupyter-widgets/controls",
      "_model_module_version": "1.5.0",
      "_model_name": "DescriptionStyleModel",
      "_view_count": null,
      "_view_module": "@jupyter-widgets/base",
      "_view_module_version": "1.2.0",
      "_view_name": "StyleView",
      "description_width": ""
     }
    },
    "834106ca9db34ecfaa47df2b97788f77": {
     "model_module": "@jupyter-widgets/controls",
     "model_module_version": "1.5.0",
     "model_name": "HTMLModel",
     "state": {
      "_dom_classes": [],
      "_model_module": "@jupyter-widgets/controls",
      "_model_module_version": "1.5.0",
      "_model_name": "HTMLModel",
      "_view_count": null,
      "_view_module": "@jupyter-widgets/controls",
      "_view_module_version": "1.5.0",
      "_view_name": "HTMLView",
      "description": "",
      "description_tooltip": null,
      "layout": "IPY_MODEL_1e8a9bb170ab44548bbc9ad69797cb77",
      "placeholder": "​",
      "style": "IPY_MODEL_7d2b641243e6448c8e7446e9f59f471a",
      "value": " 0/1917 [00:00&lt;?, ?it/s]"
     }
    },
    "8d7ce33977e04e1b9dc7a21a4531fec2": {
     "model_module": "@jupyter-widgets/controls",
     "model_module_version": "1.5.0",
     "model_name": "FloatProgressModel",
     "state": {
      "_dom_classes": [],
      "_model_module": "@jupyter-widgets/controls",
      "_model_module_version": "1.5.0",
      "_model_name": "FloatProgressModel",
      "_view_count": null,
      "_view_module": "@jupyter-widgets/controls",
      "_view_module_version": "1.5.0",
      "_view_name": "ProgressView",
      "bar_style": "",
      "description": "",
      "description_tooltip": null,
      "layout": "IPY_MODEL_95ea4f5e26df4c2c91b88aa6eca25386",
      "max": 2,
      "min": 0,
      "orientation": "horizontal",
      "style": "IPY_MODEL_d6f438d6b0b643128bf25dc469601065",
      "value": 2
     }
    },
    "9375f447aed5459180fed100a043dc29": {
     "model_module": "@jupyter-widgets/controls",
     "model_module_version": "1.5.0",
     "model_name": "HTMLModel",
     "state": {
      "_dom_classes": [],
      "_model_module": "@jupyter-widgets/controls",
      "_model_module_version": "1.5.0",
      "_model_name": "HTMLModel",
      "_view_count": null,
      "_view_module": "@jupyter-widgets/controls",
      "_view_module_version": "1.5.0",
      "_view_name": "HTMLView",
      "description": "",
      "description_tooltip": null,
      "layout": "IPY_MODEL_74cfbe52aa0f4d49adccf8b724d79fe6",
      "placeholder": "​",
      "style": "IPY_MODEL_7601abe2da53406b8953eca766d0601b",
      "value": "Epoch 0:   0%"
     }
    },
    "95ea4f5e26df4c2c91b88aa6eca25386": {
     "model_module": "@jupyter-widgets/base",
     "model_module_version": "1.2.0",
     "model_name": "LayoutModel",
     "state": {
      "_model_module": "@jupyter-widgets/base",
      "_model_module_version": "1.2.0",
      "_model_name": "LayoutModel",
      "_view_count": null,
      "_view_module": "@jupyter-widgets/base",
      "_view_module_version": "1.2.0",
      "_view_name": "LayoutView",
      "align_content": null,
      "align_items": null,
      "align_self": null,
      "border": null,
      "bottom": null,
      "display": null,
      "flex": "2",
      "flex_flow": null,
      "grid_area": null,
      "grid_auto_columns": null,
      "grid_auto_flow": null,
      "grid_auto_rows": null,
      "grid_column": null,
      "grid_gap": null,
      "grid_row": null,
      "grid_template_areas": null,
      "grid_template_columns": null,
      "grid_template_rows": null,
      "height": null,
      "justify_content": null,
      "justify_items": null,
      "left": null,
      "margin": null,
      "max_height": null,
      "max_width": null,
      "min_height": null,
      "min_width": null,
      "object_fit": null,
      "object_position": null,
      "order": null,
      "overflow": null,
      "overflow_x": null,
      "overflow_y": null,
      "padding": null,
      "right": null,
      "top": null,
      "visibility": null,
      "width": null
     }
    },
    "bb8f04b51ad24dedbeed0e5d70d68463": {
     "model_module": "@jupyter-widgets/base",
     "model_module_version": "1.2.0",
     "model_name": "LayoutModel",
     "state": {
      "_model_module": "@jupyter-widgets/base",
      "_model_module_version": "1.2.0",
      "_model_name": "LayoutModel",
      "_view_count": null,
      "_view_module": "@jupyter-widgets/base",
      "_view_module_version": "1.2.0",
      "_view_name": "LayoutView",
      "align_content": null,
      "align_items": null,
      "align_self": null,
      "border": null,
      "bottom": null,
      "display": null,
      "flex": null,
      "flex_flow": null,
      "grid_area": null,
      "grid_auto_columns": null,
      "grid_auto_flow": null,
      "grid_auto_rows": null,
      "grid_column": null,
      "grid_gap": null,
      "grid_row": null,
      "grid_template_areas": null,
      "grid_template_columns": null,
      "grid_template_rows": null,
      "height": null,
      "justify_content": null,
      "justify_items": null,
      "left": null,
      "margin": null,
      "max_height": null,
      "max_width": null,
      "min_height": null,
      "min_width": null,
      "object_fit": null,
      "object_position": null,
      "order": null,
      "overflow": null,
      "overflow_x": null,
      "overflow_y": null,
      "padding": null,
      "right": null,
      "top": null,
      "visibility": null,
      "width": null
     }
    },
    "bf75c0b5fad74992a9e5a421cedd83ed": {
     "model_module": "@jupyter-widgets/controls",
     "model_module_version": "1.5.0",
     "model_name": "DescriptionStyleModel",
     "state": {
      "_model_module": "@jupyter-widgets/controls",
      "_model_module_version": "1.5.0",
      "_model_name": "DescriptionStyleModel",
      "_view_count": null,
      "_view_module": "@jupyter-widgets/base",
      "_view_module_version": "1.2.0",
      "_view_name": "StyleView",
      "description_width": ""
     }
    },
    "d6f438d6b0b643128bf25dc469601065": {
     "model_module": "@jupyter-widgets/controls",
     "model_module_version": "1.5.0",
     "model_name": "ProgressStyleModel",
     "state": {
      "_model_module": "@jupyter-widgets/controls",
      "_model_module_version": "1.5.0",
      "_model_name": "ProgressStyleModel",
      "_view_count": null,
      "_view_module": "@jupyter-widgets/base",
      "_view_module_version": "1.2.0",
      "_view_name": "StyleView",
      "bar_color": null,
      "description_width": ""
     }
    },
    "e64b9c5b597e41a0b26168aa7aa20250": {
     "model_module": "@jupyter-widgets/controls",
     "model_module_version": "1.5.0",
     "model_name": "HBoxModel",
     "state": {
      "_dom_classes": [],
      "_model_module": "@jupyter-widgets/controls",
      "_model_module_version": "1.5.0",
      "_model_name": "HBoxModel",
      "_view_count": null,
      "_view_module": "@jupyter-widgets/controls",
      "_view_module_version": "1.5.0",
      "_view_name": "HBoxView",
      "box_style": "",
      "children": [
       "IPY_MODEL_9375f447aed5459180fed100a043dc29",
       "IPY_MODEL_2ecd22a1b95042be9b7fea322174fdd6",
       "IPY_MODEL_834106ca9db34ecfaa47df2b97788f77"
      ],
      "layout": "IPY_MODEL_3a705323012e44219c8877cf8e7b3f79"
     }
    },
    "ec726c6821584e94a4eb265d6882822b": {
     "model_module": "@jupyter-widgets/controls",
     "model_module_version": "1.5.0",
     "model_name": "DescriptionStyleModel",
     "state": {
      "_model_module": "@jupyter-widgets/controls",
      "_model_module_version": "1.5.0",
      "_model_name": "DescriptionStyleModel",
      "_view_count": null,
      "_view_module": "@jupyter-widgets/base",
      "_view_module_version": "1.2.0",
      "_view_name": "StyleView",
      "description_width": ""
     }
    },
    "f9059c6576324ead99ac9f0ac3c98b8b": {
     "model_module": "@jupyter-widgets/base",
     "model_module_version": "1.2.0",
     "model_name": "LayoutModel",
     "state": {
      "_model_module": "@jupyter-widgets/base",
      "_model_module_version": "1.2.0",
      "_model_name": "LayoutModel",
      "_view_count": null,
      "_view_module": "@jupyter-widgets/base",
      "_view_module_version": "1.2.0",
      "_view_name": "LayoutView",
      "align_content": null,
      "align_items": null,
      "align_self": null,
      "border": null,
      "bottom": null,
      "display": null,
      "flex": null,
      "flex_flow": null,
      "grid_area": null,
      "grid_auto_columns": null,
      "grid_auto_flow": null,
      "grid_auto_rows": null,
      "grid_column": null,
      "grid_gap": null,
      "grid_row": null,
      "grid_template_areas": null,
      "grid_template_columns": null,
      "grid_template_rows": null,
      "height": null,
      "justify_content": null,
      "justify_items": null,
      "left": null,
      "margin": null,
      "max_height": null,
      "max_width": null,
      "min_height": null,
      "min_width": null,
      "object_fit": null,
      "object_position": null,
      "order": null,
      "overflow": null,
      "overflow_x": null,
      "overflow_y": null,
      "padding": null,
      "right": null,
      "top": null,
      "visibility": null,
      "width": null
     }
    }
   }
  }
 },
 "nbformat": 4,
 "nbformat_minor": 4
}
